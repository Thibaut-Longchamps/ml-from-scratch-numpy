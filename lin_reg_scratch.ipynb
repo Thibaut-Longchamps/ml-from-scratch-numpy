{
 "cells": [
  {
   "cell_type": "markdown",
   "id": "a5b1dd93",
   "metadata": {},
   "source": [
    "## **Linear Regression from scratch** ##"
   ]
  },
  {
   "cell_type": "markdown",
   "id": "759e6c43",
   "metadata": {},
   "source": [
    "### **Project Objective :** ###\n",
    "\n",
    "The goal of this project is to implement linear regression from scratch using gradient descent on a synthetic dataset. The purpose is to build a solid understanding of the linear algebra and matrix operations that underpin high-level machine learning libraries such as scikit-learn.\n",
    "\n",
    "This implementation includes key elements such as loss calculation (MSE, R²), parameter updates with gradient descent, and basic early stopping criteria.\n",
    "\n",
    "A deliberately small dataset is used to make the project more pedagogical and to clearly illustrate each computational step. This project is intended both as a learning exercise and as a foundation for extending towards more advanced models (e.g., logistic regression, softmax regression)."
   ]
  },
  {
   "cell_type": "markdown",
   "id": "d00160dd",
   "metadata": {},
   "source": [
    "Avant de réaliser une regression certain postulat statistiques essentielles sont à vérifier"
   ]
  },
  {
   "cell_type": "markdown",
   "id": "f52c0e44",
   "metadata": {},
   "source": [
    "### **Assumptions of linear regression**  ###\n",
    "\n",
    "- Linearity  \n",
    "- Independence of errors  \n",
    "- Homoscedasticity (constant variance of errors)  \n",
    "- Normality of errors (for inference)  \n",
    "- No multicollinearity  \n",
    "\n",
    "These are the classical assumptions behind linear regression. If you’re interested, I invite you to explore them in more detail, as they are key to understanding when the model is reliable.\n"
   ]
  },
  {
   "cell_type": "markdown",
   "id": "40b3a548",
   "metadata": {},
   "source": [
    "### **Exploratory Data Analysis (EDA)**\n",
    "\n",
    "Before training any machine learning model, it is essential to perform an **exploratory data analysis (EDA)**.  \n",
    "This usually includes:\n",
    "- Looking at the distribution of the target variable  \n",
    "- Checking correlations or covariance between features  \n",
    "- Detecting multicollinearity  \n",
    "- Identifying missing values  \n",
    "- Visualizing relationships (scatter plots, box plots, histograms, etc.)  \n",
    "\n",
    "=> This step helps to understand the dataset, validate assumptions, and guide preprocessing choices.  \n",
    "\n",
    "=> In this notebook, since the data is **synthetic** and to keep things digestible, we skip the EDA.  \n",
    "But in a real project, **EDA is a crucial step** before building any predictive model."
   ]
  },
  {
   "cell_type": "markdown",
   "id": "48ea4883",
   "metadata": {},
   "source": [
    "### **1. Import the usual libraries** ###"
   ]
  },
  {
   "cell_type": "code",
   "execution_count": 272,
   "id": "fece89e1",
   "metadata": {},
   "outputs": [],
   "source": [
    "import pandas as pd\n",
    "import numpy as np"
   ]
  },
  {
   "cell_type": "markdown",
   "id": "9085c23e",
   "metadata": {},
   "source": [
    "### **2. Import data** ###"
   ]
  },
  {
   "cell_type": "code",
   "execution_count": 273,
   "id": "609cd95c",
   "metadata": {},
   "outputs": [],
   "source": [
    "# Import CSV\n",
    "df = pd.read_csv(r'C:\\Users\\33760\\Desktop\\entretiens_techniques\\data\\dataset_rent.csv')"
   ]
  },
  {
   "cell_type": "code",
   "execution_count": 274,
   "id": "be84d75a",
   "metadata": {},
   "outputs": [
    {
     "data": {
      "text/html": [
       "<div>\n",
       "<style scoped>\n",
       "    .dataframe tbody tr th:only-of-type {\n",
       "        vertical-align: middle;\n",
       "    }\n",
       "\n",
       "    .dataframe tbody tr th {\n",
       "        vertical-align: top;\n",
       "    }\n",
       "\n",
       "    .dataframe thead th {\n",
       "        text-align: right;\n",
       "    }\n",
       "</style>\n",
       "<table border=\"1\" class=\"dataframe\">\n",
       "  <thead>\n",
       "    <tr style=\"text-align: right;\">\n",
       "      <th></th>\n",
       "      <th>surface</th>\n",
       "      <th>furnished</th>\n",
       "      <th>distance_metro_km</th>\n",
       "      <th>district</th>\n",
       "      <th>rent</th>\n",
       "    </tr>\n",
       "  </thead>\n",
       "  <tbody>\n",
       "    <tr>\n",
       "      <th>0</th>\n",
       "      <td>20</td>\n",
       "      <td>0</td>\n",
       "      <td>0.2</td>\n",
       "      <td>center</td>\n",
       "      <td>984</td>\n",
       "    </tr>\n",
       "    <tr>\n",
       "      <th>1</th>\n",
       "      <td>35</td>\n",
       "      <td>1</td>\n",
       "      <td>0.1</td>\n",
       "      <td>suburb</td>\n",
       "      <td>1792</td>\n",
       "    </tr>\n",
       "    <tr>\n",
       "      <th>2</th>\n",
       "      <td>50</td>\n",
       "      <td>0</td>\n",
       "      <td>0.8</td>\n",
       "      <td>suburb</td>\n",
       "      <td>1986</td>\n",
       "    </tr>\n",
       "    <tr>\n",
       "      <th>3</th>\n",
       "      <td>45</td>\n",
       "      <td>1</td>\n",
       "      <td>0.5</td>\n",
       "      <td>periphery</td>\n",
       "      <td>2210</td>\n",
       "    </tr>\n",
       "    <tr>\n",
       "      <th>4</th>\n",
       "      <td>28</td>\n",
       "      <td>0</td>\n",
       "      <td>0.3</td>\n",
       "      <td>center</td>\n",
       "      <td>1216</td>\n",
       "    </tr>\n",
       "  </tbody>\n",
       "</table>\n",
       "</div>"
      ],
      "text/plain": [
       "   surface  furnished  distance_metro_km   district  rent\n",
       "0       20          0                0.2     center   984\n",
       "1       35          1                0.1     suburb  1792\n",
       "2       50          0                0.8     suburb  1986\n",
       "3       45          1                0.5  periphery  2210\n",
       "4       28          0                0.3     center  1216"
      ]
     },
     "execution_count": 274,
     "metadata": {},
     "output_type": "execute_result"
    }
   ],
   "source": [
    "# Display dataset\n",
    "df.head()"
   ]
  },
  {
   "cell_type": "markdown",
   "id": "43113baa",
   "metadata": {},
   "source": [
    "Columns of X:\n",
    "\n",
    "- surface (m²) → numerical\n",
    "\n",
    "- furnished (0/1) → already numerical (no encoding required)\n",
    "\n",
    "- distance_metro (km) → numerical\n",
    "\n",
    "- district = [\"center\", \"suburb\", \"outskirts\"]\n",
    "\n",
    "Column of y :\n",
    "\n",
    "- rent → target\n",
    "\n",
    "**Objective: predict the rent price.**"
   ]
  },
  {
   "cell_type": "code",
   "execution_count": 275,
   "id": "1af60852",
   "metadata": {},
   "outputs": [
    {
     "name": "stdout",
     "output_type": "stream",
     "text": [
      "The dataset contains 30 rows and 5 columns.\n"
     ]
    }
   ],
   "source": [
    "# Shape dataset\n",
    "rows, cols = df.shape\n",
    "\n",
    "print(f\"The dataset contains {rows} rows and {cols} columns.\")"
   ]
  },
  {
   "cell_type": "markdown",
   "id": "05b5fb8d",
   "metadata": {},
   "source": [
    "### **3. preprocessing before training** ###"
   ]
  },
  {
   "cell_type": "markdown",
   "id": "05a30375",
   "metadata": {},
   "source": [
    "##### 3.1 Convert DataFrame to numpy array #####\n",
    "\n",
    "Using NumPy allows us to perform the linear algebra calculations that are required for machine learning models."
   ]
  },
  {
   "cell_type": "code",
   "execution_count": 276,
   "id": "f4c7dcce",
   "metadata": {},
   "outputs": [
    {
     "name": "stdout",
     "output_type": "stream",
     "text": [
      "Data struture : <class 'numpy.ndarray'>\n"
     ]
    }
   ],
   "source": [
    "# Convert dataframe to numpy array\n",
    "data_arr = df.values\n",
    "\n",
    "print(f\"Data struture : {type(data_arr)}\")"
   ]
  },
  {
   "cell_type": "code",
   "execution_count": 277,
   "id": "0c4867d2",
   "metadata": {},
   "outputs": [
    {
     "data": {
      "text/plain": [
       "array([[20, 0, 0.2, 'center', 984],\n",
       "       [35, 1, 0.1, 'suburb', 1792],\n",
       "       [50, 0, 0.8, 'suburb', 1986],\n",
       "       [45, 1, 0.5, 'periphery', 2210],\n",
       "       [28, 0, 0.3, 'center', 1216],\n",
       "       [60, 1, 1.0, 'suburb', 2470],\n",
       "       [42, 0, 0.2, 'periphery', 1944],\n",
       "       [55, 1, 0.4, 'center', 2218],\n",
       "       [33, 0, 1.5, 'suburb', 1420],\n",
       "       [70, 1, 0.0, 'periphery', 3000],\n",
       "       [25, 0, 0.1, 'center', 1100],\n",
       "       [40, 1, 0.6, 'suburb', 1870],\n",
       "       [65, 0, 0.9, 'suburb', 2320],\n",
       "       [48, 1, 0.3, 'center', 2100],\n",
       "       [30, 0, 0.7, 'periphery', 1380],\n",
       "       [52, 1, 0.4, 'suburb', 2250],\n",
       "       [38, 0, 0.2, 'center', 1650],\n",
       "       [75, 1, 1.2, 'suburb', 3150],\n",
       "       [28, 1, 0.5, 'periphery', 1500],\n",
       "       [46, 0, 0.8, 'suburb', 1800],\n",
       "       [58, 1, 0.0, 'center', 2600],\n",
       "       [22, 0, 1.0, 'suburb', 1050],\n",
       "       [62, 1, 0.7, 'periphery', 2400],\n",
       "       [36, 0, 0.4, 'center', 1580],\n",
       "       [49, 1, 0.9, 'suburb', 2050],\n",
       "       [55, 0, 1.5, 'periphery', 1900],\n",
       "       [68, 1, 0.3, 'center', 2850],\n",
       "       [32, 0, 0.6, 'suburb', 1520],\n",
       "       [44, 1, 0.5, 'periphery', 2000],\n",
       "       [80, 1, 1.0, 'suburb', 3400]], dtype=object)"
      ]
     },
     "execution_count": 277,
     "metadata": {},
     "output_type": "execute_result"
    }
   ],
   "source": [
    "# Display array\n",
    "data_arr"
   ]
  },
  {
   "cell_type": "markdown",
   "id": "5fd644f6",
   "metadata": {},
   "source": [
    "##### 3.2 Separating explanatory variables (features) and the dependent variable (target) #####"
   ]
  },
  {
   "cell_type": "code",
   "execution_count": null,
   "id": "57d63cf1",
   "metadata": {},
   "outputs": [],
   "source": [
    "def Separate_X_y(data_arr):    \n",
    "    # Separate X, y\n",
    "    X = data_arr[:, :-1]\n",
    "    y = data_arr[:, -1]\n",
    "\n",
    "    # Dimension matrix X \n",
    "    n_samples = X.shape\n",
    "\n",
    "    # Check\n",
    "    print(f\"X : {X}\")\n",
    "    print(f\"shape X - rows : {n_samples[0]}, columns : {n_samples[1]}\")\n",
    "\n",
    "    print(f\"\\n y : {y}\")\n",
    "    print(f\"shape y - rows : {y.shape[0]}\")\n",
    "    \n",
    "    return X, y"
   ]
  },
  {
   "cell_type": "code",
   "execution_count": 279,
   "id": "b2878036",
   "metadata": {},
   "outputs": [
    {
     "name": "stdout",
     "output_type": "stream",
     "text": [
      "X : [[20 0 0.2 'center']\n",
      " [35 1 0.1 'suburb']\n",
      " [50 0 0.8 'suburb']\n",
      " [45 1 0.5 'periphery']\n",
      " [28 0 0.3 'center']\n",
      " [60 1 1.0 'suburb']\n",
      " [42 0 0.2 'periphery']\n",
      " [55 1 0.4 'center']\n",
      " [33 0 1.5 'suburb']\n",
      " [70 1 0.0 'periphery']\n",
      " [25 0 0.1 'center']\n",
      " [40 1 0.6 'suburb']\n",
      " [65 0 0.9 'suburb']\n",
      " [48 1 0.3 'center']\n",
      " [30 0 0.7 'periphery']\n",
      " [52 1 0.4 'suburb']\n",
      " [38 0 0.2 'center']\n",
      " [75 1 1.2 'suburb']\n",
      " [28 1 0.5 'periphery']\n",
      " [46 0 0.8 'suburb']\n",
      " [58 1 0.0 'center']\n",
      " [22 0 1.0 'suburb']\n",
      " [62 1 0.7 'periphery']\n",
      " [36 0 0.4 'center']\n",
      " [49 1 0.9 'suburb']\n",
      " [55 0 1.5 'periphery']\n",
      " [68 1 0.3 'center']\n",
      " [32 0 0.6 'suburb']\n",
      " [44 1 0.5 'periphery']\n",
      " [80 1 1.0 'suburb']]\n",
      "shape X - rows : 30, columns : 4\n",
      "\n",
      " y : [984 1792 1986 2210 1216 2470 1944 2218 1420 3000 1100 1870 2320 2100 1380\n",
      " 2250 1650 3150 1500 1800 2600 1050 2400 1580 2050 1900 2850 1520 2000\n",
      " 3400]\n",
      "shape y - rows : 30\n"
     ]
    }
   ],
   "source": [
    "# Instanciate function\n",
    "X, y = Separate_X_y(data_arr)"
   ]
  },
  {
   "cell_type": "markdown",
   "id": "d5f0f668",
   "metadata": {},
   "source": [
    "##### 3.3 Preprocessing categorical variable #####\n",
    "\n",
    "To perform one-hot encoding of the categorical variable, each class is first mapped to a unique integer (0, 1, 2). Then, an identity matrix of size equal to the number of classes is generated. For each observation, the corresponding row of the identity matrix is selected to build the final one-hot encoded matrix of shape (30, 3), where each row contains a single 1 indicating the class of the observation."
   ]
  },
  {
   "cell_type": "code",
   "execution_count": 280,
   "id": "231ae299",
   "metadata": {},
   "outputs": [],
   "source": [
    "# Create mapping\n",
    "mapping = {\"center\": 0, \"periphery\": 1, \"suburb\" : 2}\n",
    "\n",
    "\n",
    "def mapping_district(X, mapping):\n",
    "    # Apply mapping on \"district\" column\n",
    "    X[:, 3] = np.array([mapping[val] for val in X[:, 3]], dtype = int)\n",
    "    \n",
    "    print(f\"X : {X}\")\n",
    "    print(f\"data type district columns : {X[:, 3].dtype}\")\n",
    "    \n",
    "    return X"
   ]
  },
  {
   "cell_type": "code",
   "execution_count": 281,
   "id": "b89326d2",
   "metadata": {},
   "outputs": [
    {
     "name": "stdout",
     "output_type": "stream",
     "text": [
      "X : [[20 0 0.2 0]\n",
      " [35 1 0.1 2]\n",
      " [50 0 0.8 2]\n",
      " [45 1 0.5 1]\n",
      " [28 0 0.3 0]\n",
      " [60 1 1.0 2]\n",
      " [42 0 0.2 1]\n",
      " [55 1 0.4 0]\n",
      " [33 0 1.5 2]\n",
      " [70 1 0.0 1]\n",
      " [25 0 0.1 0]\n",
      " [40 1 0.6 2]\n",
      " [65 0 0.9 2]\n",
      " [48 1 0.3 0]\n",
      " [30 0 0.7 1]\n",
      " [52 1 0.4 2]\n",
      " [38 0 0.2 0]\n",
      " [75 1 1.2 2]\n",
      " [28 1 0.5 1]\n",
      " [46 0 0.8 2]\n",
      " [58 1 0.0 0]\n",
      " [22 0 1.0 2]\n",
      " [62 1 0.7 1]\n",
      " [36 0 0.4 0]\n",
      " [49 1 0.9 2]\n",
      " [55 0 1.5 1]\n",
      " [68 1 0.3 0]\n",
      " [32 0 0.6 2]\n",
      " [44 1 0.5 1]\n",
      " [80 1 1.0 2]]\n",
      "data type district columns : object\n"
     ]
    }
   ],
   "source": [
    "# Instanciate function\n",
    "X = mapping_district(X,mapping)"
   ]
  },
  {
   "cell_type": "code",
   "execution_count": 282,
   "id": "817d1a26",
   "metadata": {},
   "outputs": [],
   "source": [
    "# Separate numerical and categorical variable to ease preprocessing\n",
    "X_num = X[:, :-1]\n",
    "X_cat = X[:, -1]"
   ]
  },
  {
   "cell_type": "code",
   "execution_count": 283,
   "id": "2e8c2ccf",
   "metadata": {},
   "outputs": [],
   "source": [
    "# Convert to int since these values will be used as indices \n",
    "# to select the corresponding row from the identity matrix\n",
    "X_cat = X_cat.astype(int)"
   ]
  },
  {
   "cell_type": "code",
   "execution_count": 284,
   "id": "f107c2f0",
   "metadata": {},
   "outputs": [
    {
     "data": {
      "text/plain": [
       "array([0, 2, 2, 1, 0, 2, 1, 0, 2, 1, 0, 2, 2, 0, 1, 2, 0, 2, 1, 2, 0, 2,\n",
       "       1, 0, 2, 1, 0, 2, 1, 2])"
      ]
     },
     "execution_count": 284,
     "metadata": {},
     "output_type": "execute_result"
    }
   ],
   "source": [
    "X_cat"
   ]
  },
  {
   "cell_type": "code",
   "execution_count": 285,
   "id": "f5b11b5d",
   "metadata": {},
   "outputs": [
    {
     "data": {
      "text/plain": [
       "array([[20, 0, 0.2],\n",
       "       [35, 1, 0.1],\n",
       "       [50, 0, 0.8],\n",
       "       [45, 1, 0.5],\n",
       "       [28, 0, 0.3],\n",
       "       [60, 1, 1.0],\n",
       "       [42, 0, 0.2],\n",
       "       [55, 1, 0.4],\n",
       "       [33, 0, 1.5],\n",
       "       [70, 1, 0.0],\n",
       "       [25, 0, 0.1],\n",
       "       [40, 1, 0.6],\n",
       "       [65, 0, 0.9],\n",
       "       [48, 1, 0.3],\n",
       "       [30, 0, 0.7],\n",
       "       [52, 1, 0.4],\n",
       "       [38, 0, 0.2],\n",
       "       [75, 1, 1.2],\n",
       "       [28, 1, 0.5],\n",
       "       [46, 0, 0.8],\n",
       "       [58, 1, 0.0],\n",
       "       [22, 0, 1.0],\n",
       "       [62, 1, 0.7],\n",
       "       [36, 0, 0.4],\n",
       "       [49, 1, 0.9],\n",
       "       [55, 0, 1.5],\n",
       "       [68, 1, 0.3],\n",
       "       [32, 0, 0.6],\n",
       "       [44, 1, 0.5],\n",
       "       [80, 1, 1.0]], dtype=object)"
      ]
     },
     "execution_count": 285,
     "metadata": {},
     "output_type": "execute_result"
    }
   ],
   "source": [
    "X_num"
   ]
  },
  {
   "cell_type": "code",
   "execution_count": 286,
   "id": "11e20b52",
   "metadata": {},
   "outputs": [],
   "source": [
    "def encode_cat(X_cat):\n",
    "    \"\"\"\n",
    "    One-hot encode a categorical variable using an identity matrix.\n",
    "\n",
    "    Steps:\n",
    "    - Determine the number of classes from X_cat (here 3: 0, 1, 2).\n",
    "    - Create an identity matrix of size (n_classes, n_classes).\n",
    "    - Use the values in X_cat as indices to select the corresponding\n",
    "      rows from the identity matrix, producing the one-hot matrix.\n",
    "    - Drop the last column to avoid perfect multicollinearity \n",
    "      (dummy variable trap).\n",
    "    \"\"\"\n",
    "\n",
    "    n_classes = int(X_cat.max() + 1) # here 3 classes (0,1,2)\n",
    "\n",
    "    # Create an identity matrix of size n_classes and index it with X_cat\n",
    "    local_onehot = np.eye(n_classes)[X_cat]\n",
    "\n",
    "    # Drop the last column to avoid multicollinearity\n",
    "    local_onehot_reduced = local_onehot[:, :-1]\n",
    "\n",
    "    print(f\"Identity Matrx : \\n{np.eye(n_classes)}\")\n",
    "    print(\"\\n\")\n",
    "    print(f\"District column onehot : \\n{local_onehot_reduced}\")\n",
    "    \n",
    "    return local_onehot_reduced"
   ]
  },
  {
   "cell_type": "code",
   "execution_count": 287,
   "id": "05178fbc",
   "metadata": {},
   "outputs": [
    {
     "name": "stdout",
     "output_type": "stream",
     "text": [
      "Identity Matrx : \n",
      "[[1. 0. 0.]\n",
      " [0. 1. 0.]\n",
      " [0. 0. 1.]]\n",
      "\n",
      "\n",
      "District column onehot : \n",
      "[[1. 0.]\n",
      " [0. 0.]\n",
      " [0. 0.]\n",
      " [0. 1.]\n",
      " [1. 0.]\n",
      " [0. 0.]\n",
      " [0. 1.]\n",
      " [1. 0.]\n",
      " [0. 0.]\n",
      " [0. 1.]\n",
      " [1. 0.]\n",
      " [0. 0.]\n",
      " [0. 0.]\n",
      " [1. 0.]\n",
      " [0. 1.]\n",
      " [0. 0.]\n",
      " [1. 0.]\n",
      " [0. 0.]\n",
      " [0. 1.]\n",
      " [0. 0.]\n",
      " [1. 0.]\n",
      " [0. 0.]\n",
      " [0. 1.]\n",
      " [1. 0.]\n",
      " [0. 0.]\n",
      " [0. 1.]\n",
      " [1. 0.]\n",
      " [0. 0.]\n",
      " [0. 1.]\n",
      " [0. 0.]]\n"
     ]
    }
   ],
   "source": [
    "# Instanciate function\n",
    "local_onehot_reduced = encode_cat(X_cat)"
   ]
  },
  {
   "cell_type": "markdown",
   "id": "f74e3fdb",
   "metadata": {},
   "source": [
    "**Aid to intuition**\n",
    "\n",
    "`Step 1 : Index (class)   One-hot vector`\n",
    "\n",
    "0   ─────────▶   [1 0 0]\n",
    "\n",
    "1   ─────────▶   [0 1 0]\n",
    "\n",
    "2   ─────────▶   [0 0 1]\n",
    "\n",
    "\n"
   ]
  },
  {
   "cell_type": "markdown",
   "id": "13926ae1",
   "metadata": {},
   "source": [
    "`Step 2 : Each row corresponds to a class`\n",
    "\n",
    "Class 0 → 1 in the first position\n",
    "\n",
    "Class 1 → 1 in the second position\n",
    "\n",
    "Class 2 → 1 in the third position"
   ]
  },
  {
   "cell_type": "markdown",
   "id": "4fc8715b",
   "metadata": {},
   "source": [
    "`Step 3: indexing with np.eye(3)[X_cat]`\n",
    "\n",
    "X_cat[0] = 0 → take row 0 of the table → [1 0 0]\n",
    "\n",
    "X_cat[1] = 2 → take row 2 of the table → [0 0 1]\n",
    "\n",
    "X_cat[2] = 1 → take row 1 of the table → [0 1 0]\n",
    "\n",
    "X_cat[3] = 0 → again row 0 → [1 0 0]\n",
    "\n",
    "...\n",
    "\n",
    "Finally, drop the last column to avoid multicollinearity.\n"
   ]
  },
  {
   "cell_type": "markdown",
   "id": "2c03f190",
   "metadata": {},
   "source": [
    "##### 3.4 Concatenate and add biais #####"
   ]
  },
  {
   "cell_type": "code",
   "execution_count": 288,
   "id": "35951d2d",
   "metadata": {},
   "outputs": [
    {
     "data": {
      "text/plain": [
       "array([[20, 0, 0.2, 1.0, 0.0],\n",
       "       [35, 1, 0.1, 0.0, 0.0],\n",
       "       [50, 0, 0.8, 0.0, 0.0],\n",
       "       [45, 1, 0.5, 0.0, 1.0],\n",
       "       [28, 0, 0.3, 1.0, 0.0],\n",
       "       [60, 1, 1.0, 0.0, 0.0],\n",
       "       [42, 0, 0.2, 0.0, 1.0],\n",
       "       [55, 1, 0.4, 1.0, 0.0],\n",
       "       [33, 0, 1.5, 0.0, 0.0],\n",
       "       [70, 1, 0.0, 0.0, 1.0],\n",
       "       [25, 0, 0.1, 1.0, 0.0],\n",
       "       [40, 1, 0.6, 0.0, 0.0],\n",
       "       [65, 0, 0.9, 0.0, 0.0],\n",
       "       [48, 1, 0.3, 1.0, 0.0],\n",
       "       [30, 0, 0.7, 0.0, 1.0],\n",
       "       [52, 1, 0.4, 0.0, 0.0],\n",
       "       [38, 0, 0.2, 1.0, 0.0],\n",
       "       [75, 1, 1.2, 0.0, 0.0],\n",
       "       [28, 1, 0.5, 0.0, 1.0],\n",
       "       [46, 0, 0.8, 0.0, 0.0],\n",
       "       [58, 1, 0.0, 1.0, 0.0],\n",
       "       [22, 0, 1.0, 0.0, 0.0],\n",
       "       [62, 1, 0.7, 0.0, 1.0],\n",
       "       [36, 0, 0.4, 1.0, 0.0],\n",
       "       [49, 1, 0.9, 0.0, 0.0],\n",
       "       [55, 0, 1.5, 0.0, 1.0],\n",
       "       [68, 1, 0.3, 1.0, 0.0],\n",
       "       [32, 0, 0.6, 0.0, 0.0],\n",
       "       [44, 1, 0.5, 0.0, 1.0],\n",
       "       [80, 1, 1.0, 0.0, 0.0]], dtype=object)"
      ]
     },
     "execution_count": 288,
     "metadata": {},
     "output_type": "execute_result"
    }
   ],
   "source": [
    "# Horizontally concatenate X_num (numerical variables) and one-hot columns\n",
    "X_concat = np.hstack([X_num, local_onehot_reduced])\n",
    "X_concat"
   ]
  },
  {
   "cell_type": "code",
   "execution_count": 289,
   "id": "01537a51",
   "metadata": {},
   "outputs": [
    {
     "data": {
      "text/plain": [
       "array([[1.],\n",
       "       [1.],\n",
       "       [1.],\n",
       "       [1.],\n",
       "       [1.],\n",
       "       [1.],\n",
       "       [1.],\n",
       "       [1.],\n",
       "       [1.],\n",
       "       [1.],\n",
       "       [1.],\n",
       "       [1.],\n",
       "       [1.],\n",
       "       [1.],\n",
       "       [1.],\n",
       "       [1.],\n",
       "       [1.],\n",
       "       [1.],\n",
       "       [1.],\n",
       "       [1.],\n",
       "       [1.],\n",
       "       [1.],\n",
       "       [1.],\n",
       "       [1.],\n",
       "       [1.],\n",
       "       [1.],\n",
       "       [1.],\n",
       "       [1.],\n",
       "       [1.],\n",
       "       [1.]])"
      ]
     },
     "execution_count": 289,
     "metadata": {},
     "output_type": "execute_result"
    }
   ],
   "source": [
    "# Add biais (intercept)\n",
    "biais = np.ones((len(X_concat), 1))\n",
    "biais"
   ]
  },
  {
   "cell_type": "code",
   "execution_count": 290,
   "id": "2bca4fba",
   "metadata": {},
   "outputs": [
    {
     "data": {
      "text/plain": [
       "(30, 1)"
      ]
     },
     "execution_count": 290,
     "metadata": {},
     "output_type": "execute_result"
    }
   ],
   "source": [
    "biais.shape"
   ]
  },
  {
   "cell_type": "markdown",
   "id": "c40d7df7",
   "metadata": {},
   "source": [
    "**Why the bias (intercept) is important** \n",
    "\n",
    "In a linear model, the prediction is expressed as:  \n",
    "\n",
    "y = β0 + β1·x1 + β2·x2 + ... + βp·xp\n",
    "\n",
    "- **\\(\\beta_0\\) is the bias (intercept)**. It represents the point where the regression line (or hyperplane) crosses the y-axis.  \n",
    "- Without the intercept, the model would be forced to go through the origin (0,0). This is very restrictive and often unrealistic, because in most real-world problems the target variable does not vanish when all features are zero.  \n",
    "- Adding the bias increases the **flexibility** of the model: it allows the line (in 2D) or the hyperplane (in higher dimensions) to shift up or down to better fit the data.  \n",
    "- From a linear algebra perspective, the bias can be seen as adding an **extra feature column of ones** to the design matrix \\(X\\).  \n",
    "- In statistical terms, the intercept captures the **baseline value** of the target when all other explanatory variables are zero.  \n"
   ]
  },
  {
   "cell_type": "code",
   "execution_count": 291,
   "id": "18e8d0f1",
   "metadata": {},
   "outputs": [
    {
     "data": {
      "text/plain": [
       "array([[1.0, 20, 0, 0.2, 1.0, 0.0],\n",
       "       [1.0, 35, 1, 0.1, 0.0, 0.0],\n",
       "       [1.0, 50, 0, 0.8, 0.0, 0.0],\n",
       "       [1.0, 45, 1, 0.5, 0.0, 1.0],\n",
       "       [1.0, 28, 0, 0.3, 1.0, 0.0],\n",
       "       [1.0, 60, 1, 1.0, 0.0, 0.0],\n",
       "       [1.0, 42, 0, 0.2, 0.0, 1.0],\n",
       "       [1.0, 55, 1, 0.4, 1.0, 0.0],\n",
       "       [1.0, 33, 0, 1.5, 0.0, 0.0],\n",
       "       [1.0, 70, 1, 0.0, 0.0, 1.0],\n",
       "       [1.0, 25, 0, 0.1, 1.0, 0.0],\n",
       "       [1.0, 40, 1, 0.6, 0.0, 0.0],\n",
       "       [1.0, 65, 0, 0.9, 0.0, 0.0],\n",
       "       [1.0, 48, 1, 0.3, 1.0, 0.0],\n",
       "       [1.0, 30, 0, 0.7, 0.0, 1.0],\n",
       "       [1.0, 52, 1, 0.4, 0.0, 0.0],\n",
       "       [1.0, 38, 0, 0.2, 1.0, 0.0],\n",
       "       [1.0, 75, 1, 1.2, 0.0, 0.0],\n",
       "       [1.0, 28, 1, 0.5, 0.0, 1.0],\n",
       "       [1.0, 46, 0, 0.8, 0.0, 0.0],\n",
       "       [1.0, 58, 1, 0.0, 1.0, 0.0],\n",
       "       [1.0, 22, 0, 1.0, 0.0, 0.0],\n",
       "       [1.0, 62, 1, 0.7, 0.0, 1.0],\n",
       "       [1.0, 36, 0, 0.4, 1.0, 0.0],\n",
       "       [1.0, 49, 1, 0.9, 0.0, 0.0],\n",
       "       [1.0, 55, 0, 1.5, 0.0, 1.0],\n",
       "       [1.0, 68, 1, 0.3, 1.0, 0.0],\n",
       "       [1.0, 32, 0, 0.6, 0.0, 0.0],\n",
       "       [1.0, 44, 1, 0.5, 0.0, 1.0],\n",
       "       [1.0, 80, 1, 1.0, 0.0, 0.0]], dtype=object)"
      ]
     },
     "execution_count": 291,
     "metadata": {},
     "output_type": "execute_result"
    }
   ],
   "source": [
    "# Concatenate biais first column\n",
    "X_final = np.hstack([biais, X_concat])\n",
    "X_final"
   ]
  },
  {
   "cell_type": "markdown",
   "id": "b5f01e56",
   "metadata": {},
   "source": [
    "#### 3.4 Train test split ####"
   ]
  },
  {
   "cell_type": "markdown",
   "id": "daadd45a",
   "metadata": {},
   "source": [
    "**Why do we use a train/test split?**\n",
    "\n",
    "The idea is simple: we want to check if our model has really **learned something general**, or if it has just **memorized the data**.\n",
    "\n",
    "- **Training set** → the part of the data the model actually sees and learns from.  \n",
    "- **Test set** → completely unseen data, used only at the end to check if the model can make correct predictions on new examples.  \n",
    "\n",
    "If we don’t split, the model could look perfect (because it just repeats what it has already seen), but in reality it would fail on new data.  \n",
    "So the split is essential to evaluate the **true performance** and avoid the trap of **overfitting**. "
   ]
  },
  {
   "cell_type": "code",
   "execution_count": 292,
   "id": "49a63be4",
   "metadata": {},
   "outputs": [],
   "source": [
    "split = int(len(X_final)*0.8)"
   ]
  },
  {
   "cell_type": "code",
   "execution_count": 293,
   "id": "e2b02369",
   "metadata": {},
   "outputs": [],
   "source": [
    "def Train_Test_Split(X, y, split):\n",
    "\n",
    "    X_train = X[:split, :]\n",
    "    print(f\"X_train : \\n{X_train}\")\n",
    "\n",
    "    X_test = X[split :, :]\n",
    "    print(f\"\\nX_test : \\n{X_test}\")\n",
    "    \n",
    "    y_train = y[:split]\n",
    "    y_test  = y[split:]\n",
    "    \n",
    "    print(\"\\n\")\n",
    "    print(f\"X_train shape :{X_train.shape}, y_train shape : {y_train.shape}\")\n",
    "    print(f\"X_test  shape :{X_test.shape}, y_test  shape : {y_test.shape}\")\n",
    "\n",
    "\n",
    "    return X_train, X_test, y_train, y_test"
   ]
  },
  {
   "cell_type": "code",
   "execution_count": 294,
   "id": "cee330b5",
   "metadata": {},
   "outputs": [
    {
     "name": "stdout",
     "output_type": "stream",
     "text": [
      "X_train : \n",
      "[[1.0 20 0 0.2 1.0 0.0]\n",
      " [1.0 35 1 0.1 0.0 0.0]\n",
      " [1.0 50 0 0.8 0.0 0.0]\n",
      " [1.0 45 1 0.5 0.0 1.0]\n",
      " [1.0 28 0 0.3 1.0 0.0]\n",
      " [1.0 60 1 1.0 0.0 0.0]\n",
      " [1.0 42 0 0.2 0.0 1.0]\n",
      " [1.0 55 1 0.4 1.0 0.0]\n",
      " [1.0 33 0 1.5 0.0 0.0]\n",
      " [1.0 70 1 0.0 0.0 1.0]\n",
      " [1.0 25 0 0.1 1.0 0.0]\n",
      " [1.0 40 1 0.6 0.0 0.0]\n",
      " [1.0 65 0 0.9 0.0 0.0]\n",
      " [1.0 48 1 0.3 1.0 0.0]\n",
      " [1.0 30 0 0.7 0.0 1.0]\n",
      " [1.0 52 1 0.4 0.0 0.0]\n",
      " [1.0 38 0 0.2 1.0 0.0]\n",
      " [1.0 75 1 1.2 0.0 0.0]\n",
      " [1.0 28 1 0.5 0.0 1.0]\n",
      " [1.0 46 0 0.8 0.0 0.0]\n",
      " [1.0 58 1 0.0 1.0 0.0]\n",
      " [1.0 22 0 1.0 0.0 0.0]\n",
      " [1.0 62 1 0.7 0.0 1.0]\n",
      " [1.0 36 0 0.4 1.0 0.0]]\n",
      "\n",
      "X_test : \n",
      "[[1.0 49 1 0.9 0.0 0.0]\n",
      " [1.0 55 0 1.5 0.0 1.0]\n",
      " [1.0 68 1 0.3 1.0 0.0]\n",
      " [1.0 32 0 0.6 0.0 0.0]\n",
      " [1.0 44 1 0.5 0.0 1.0]\n",
      " [1.0 80 1 1.0 0.0 0.0]]\n",
      "\n",
      "\n",
      "X_train shape :(24, 6), y_train shape : (24,)\n",
      "X_test  shape :(6, 6), y_test  shape : (6,)\n"
     ]
    }
   ],
   "source": [
    "X_train, X_test, y_train, y_test = Train_Test_Split(X_final, y, split)"
   ]
  },
  {
   "cell_type": "markdown",
   "id": "f24f0e07",
   "metadata": {},
   "source": [
    "#### 3.5 Preprocessing numerical variables (standardisation) ####"
   ]
  },
  {
   "cell_type": "markdown",
   "id": "dc034698",
   "metadata": {},
   "source": [
    "### Why do we use standardization (z-score)?\n",
    "\n",
    "Standardization with the z-score does two main things:\n",
    "\n",
    "- **Avoid bias in the model**: if we feed the model raw numerical data with very different units, one variable can dominate the others.  \n",
    "  Example: a variable measured in thousands of inhabitants will have much more impact than another measured in centimeters.  \n",
    "  By applying z-score standardization \\((X - mean) / std), all features are rescaled to the same range (mean 0, std 1), which makes the training more balanced.\n",
    "\n",
    "- **Spot potential outliers**: after standardization, most values fall within about 3 standard deviations of the mean.  \n",
    "  A point with \\(|z| > 3\\) is likely an outlier, which could bias the model or add noise.\n",
    "\n",
    "In short, standardization makes learning easier for the model (faster and more stable convergence) and also helps detect extreme values that may require special handling.\n"
   ]
  },
  {
   "cell_type": "markdown",
   "id": "87beeb5c",
   "metadata": {},
   "source": [
    "⚠️ Important note about standardization (z-score):\n",
    "\n",
    "When applying z-score standardization, the **mean** and **standard deviation** must be computed **only on the training set (X_train)**.  \n",
    "These same values are then used to transform both **X_train** and **X_test**.\n",
    "\n",
    "Why?  \n",
    "- If we use the mean/std of X_test, we are leaking information from the test set into the training process (**data leakage**).  \n",
    "- The goal is to simulate real-world conditions: when the model sees new data (test or production), it must be standardized with the parameters learned only from the training data.\n"
   ]
  },
  {
   "cell_type": "code",
   "execution_count": 295,
   "id": "f43346ec",
   "metadata": {},
   "outputs": [],
   "source": [
    "def standardize_train_test(X_train, X_test, cols_to_scale):\n",
    "    \"\"\"\n",
    "    Standardize selected columns of X (z-score) using the statistics computed from the training set.  \n",
    "    Do not modify the bias column (col 0) or any columns not listed.  \n",
    "    Return X_train_std, X_test_std, and (means, stds) for these columns.\n",
    "\n",
    "    \"\"\"\n",
    "    Xtr = X_train.copy().astype(float)\n",
    "    Xte = X_test.copy().astype(float)\n",
    "\n",
    "    means = Xtr[:, cols_to_scale].mean(axis=0)\n",
    "    stds  = Xtr[:, cols_to_scale].std(axis=0)\n",
    "    stds[stds == 0] = 1.0  # éviter division par zéro\n",
    "\n",
    "    Xtr[:, cols_to_scale] = (Xtr[:, cols_to_scale] - means) / stds\n",
    "    Xte[:, cols_to_scale] = (Xte[:, cols_to_scale] - means) / stds\n",
    "    return Xtr, Xte, (means, stds)"
   ]
  },
  {
   "cell_type": "code",
   "execution_count": 296,
   "id": "96e987ea",
   "metadata": {},
   "outputs": [],
   "source": [
    "cols_to_scale = [1, 3] # indice col to scale\n",
    "X_train_norm, X_test_norm, _ = standardize_train_test(X_train, X_test, cols_to_scale)"
   ]
  },
  {
   "cell_type": "code",
   "execution_count": 297,
   "id": "338b8c89",
   "metadata": {},
   "outputs": [
    {
     "data": {
      "text/plain": [
       "array([[ 1.        , -1.59813621,  0.        , -0.86146098,  1.        ,\n",
       "         0.        ],\n",
       "       [ 1.        , -0.61129395,  1.        , -1.11989928,  0.        ,\n",
       "         0.        ],\n",
       "       [ 1.        ,  0.3755483 ,  0.        ,  0.68916879,  0.        ,\n",
       "         0.        ],\n",
       "       [ 1.        ,  0.04660088,  1.        , -0.0861461 ,  0.        ,\n",
       "         1.        ],\n",
       "       [ 1.        , -1.07182034,  0.        , -0.60302269,  1.        ,\n",
       "         0.        ],\n",
       "       [ 1.        ,  1.03344314,  1.        ,  1.20604538,  0.        ,\n",
       "         0.        ],\n",
       "       [ 1.        , -0.15076757,  0.        , -0.86146098,  0.        ,\n",
       "         1.        ],\n",
       "       [ 1.        ,  0.70449572,  1.        , -0.34458439,  1.        ,\n",
       "         0.        ],\n",
       "       [ 1.        , -0.74287292,  0.        ,  2.49823686,  0.        ,\n",
       "         0.        ],\n",
       "       [ 1.        ,  1.69133797,  1.        , -1.37833758,  0.        ,\n",
       "         1.        ],\n",
       "       [ 1.        , -1.26918879,  0.        , -1.11989928,  1.        ,\n",
       "         0.        ],\n",
       "       [ 1.        , -0.28234653,  1.        ,  0.1722922 ,  0.        ,\n",
       "         0.        ],\n",
       "       [ 1.        ,  1.36239056,  0.        ,  0.94760708,  0.        ,\n",
       "         0.        ],\n",
       "       [ 1.        ,  0.24396933,  1.        , -0.60302269,  1.        ,\n",
       "         0.        ],\n",
       "       [ 1.        , -0.94024137,  0.        ,  0.43073049,  0.        ,\n",
       "         1.        ],\n",
       "       [ 1.        ,  0.50712727,  1.        , -0.34458439,  0.        ,\n",
       "         0.        ],\n",
       "       [ 1.        , -0.4139255 ,  0.        , -0.86146098,  1.        ,\n",
       "         0.        ],\n",
       "       [ 1.        ,  2.02028539,  1.        ,  1.72292197,  0.        ,\n",
       "         0.        ],\n",
       "       [ 1.        , -1.07182034,  1.        , -0.0861461 ,  0.        ,\n",
       "         1.        ],\n",
       "       [ 1.        ,  0.11239037,  0.        ,  0.68916879,  0.        ,\n",
       "         0.        ],\n",
       "       [ 1.        ,  0.90186417,  1.        , -1.37833758,  1.        ,\n",
       "         0.        ],\n",
       "       [ 1.        , -1.46655724,  0.        ,  1.20604538,  0.        ,\n",
       "         0.        ],\n",
       "       [ 1.        ,  1.1650221 ,  1.        ,  0.43073049,  0.        ,\n",
       "         1.        ],\n",
       "       [ 1.        , -0.54550447,  0.        , -0.34458439,  1.        ,\n",
       "         0.        ]])"
      ]
     },
     "execution_count": 297,
     "metadata": {},
     "output_type": "execute_result"
    }
   ],
   "source": [
    "X_train_norm"
   ]
  },
  {
   "cell_type": "code",
   "execution_count": 298,
   "id": "a091b348",
   "metadata": {},
   "outputs": [
    {
     "data": {
      "text/plain": [
       "array([[ 1.        ,  0.30975882,  1.        ,  0.94760708,  0.        ,\n",
       "         0.        ],\n",
       "       [ 1.        ,  0.70449572,  0.        ,  2.49823686,  0.        ,\n",
       "         1.        ],\n",
       "       [ 1.        ,  1.55975901,  1.        , -0.60302269,  1.        ,\n",
       "         0.        ],\n",
       "       [ 1.        , -0.8086624 ,  0.        ,  0.1722922 ,  0.        ,\n",
       "         0.        ],\n",
       "       [ 1.        , -0.0191886 ,  1.        , -0.0861461 ,  0.        ,\n",
       "         1.        ],\n",
       "       [ 1.        ,  2.34923281,  1.        ,  1.20604538,  0.        ,\n",
       "         0.        ]])"
      ]
     },
     "execution_count": 298,
     "metadata": {},
     "output_type": "execute_result"
    }
   ],
   "source": [
    "X_test_norm"
   ]
  },
  {
   "cell_type": "markdown",
   "id": "31faaa7e",
   "metadata": {},
   "source": [
    "eeeee"
   ]
  },
  {
   "cell_type": "markdown",
   "id": "66ca99b7",
   "metadata": {},
   "source": [
    "#### 3.6 Outliers ####"
   ]
  },
  {
   "cell_type": "code",
   "execution_count": 299,
   "id": "e458457d",
   "metadata": {},
   "outputs": [
    {
     "name": "stdout",
     "output_type": "stream",
     "text": [
      "Z-score range (train): min = -1.60, max = 2.50\n"
     ]
    }
   ],
   "source": [
    "# Get max absolute value in the scaled column\n",
    "cols_train_z_score = X_train_norm[:, cols_to_scale]\n",
    "max_train_z = cols_train_z_score.max()\n",
    "min_train_z = cols_train_z_score.min()\n",
    "\n",
    "print(f\"Z-score range (train): min = {min_train_z:.2f}, max = {max_train_z:.2f}\")"
   ]
  },
  {
   "cell_type": "code",
   "execution_count": 300,
   "id": "ffe90363",
   "metadata": {},
   "outputs": [],
   "source": [
    "cols_test_z_score = X_test_norm[:, cols_to_scale]"
   ]
  },
  {
   "cell_type": "code",
   "execution_count": 301,
   "id": "3ae676c7",
   "metadata": {},
   "outputs": [
    {
     "name": "stdout",
     "output_type": "stream",
     "text": [
      "Z-score range (train): min = -0.81, max = 2.50\n"
     ]
    }
   ],
   "source": [
    "# Get max absolute value in the scaled column\n",
    "cols_test_z_score = X_test_norm[:, cols_to_scale]\n",
    "max_test_z = cols_test_z_score.max()\n",
    "min_test_z = cols_test_z_score.min()\n",
    "\n",
    "print(f\"Z-score range (train): min = {min_test_z:.2f}, max = {max_test_z:.2f}\")"
   ]
  },
  {
   "cell_type": "markdown",
   "id": "0079a1ee",
   "metadata": {},
   "source": [
    "We observe that there are no points outside the interval [-3z, 3z].  \n",
    "If there had been, they should have been treated as outliers — for example by replacing them with the median, the mean, the nearest neighbor, or by removing the row. "
   ]
  },
  {
   "cell_type": "markdown",
   "id": "999092ff",
   "metadata": {},
   "source": [
    "### **4. Model training** ###"
   ]
  },
  {
   "cell_type": "markdown",
   "id": "82bf9705",
   "metadata": {},
   "source": [
    "#### 4.1 Weight vector initialization ####"
   ]
  },
  {
   "cell_type": "markdown",
   "id": "a657be0b",
   "metadata": {},
   "source": [
    "Role of the weights and the gradient\n",
    "\n",
    "In linear regression, the weights (β) represent how much each explanatory variable contributes to the prediction.\n",
    "During training, these weights are iteratively updated using gradient descent.\n",
    "\n",
    "The update rule is based on the gradient of the cost function :  (MSE):\n",
    "\n",
    "`mse = ∇β (1/n) Σ (y_i - x_i^T β)^2 = (2/n) X^T (Xβ - y)` # ps: XB = ypred\n",
    "\n",
    "This is the simplified, factorized form of the partial derivatives of the cost function with respect to all parameters, including the intercept.\n",
    "\n",
    "`gradient mse = 2/n*X.T(XB - y)`\n",
    "\n",
    "In short: the sign of the gradient tells us whether to increase or decrease each weight.\n",
    "This is how the model gradually learns the optimal combination of weights to minimize the MSE."
   ]
  },
  {
   "cell_type": "markdown",
   "id": "995a43ef",
   "metadata": {},
   "source": [
    "The gradient indicates the direction of the steepest increase of the MSE. To minimize the error, we move in the opposite direction. The learning rate controls the step size of this update. The gradient is a vector of size X.shape[1], one component per parameter.\n",
    "\n",
    "\n",
    "- `If (∂J/∂β_j) > 0` \n",
    "  → increasing β_j increases the loss  \n",
    "  → so we need to decrease β_j.\n",
    "\n",
    "- `If (∂J/∂β_j) < 0`  \n",
    "  → increasing β_j decreases the loss  \n",
    "  → so we need to increase β_j.\n",
    "\n",
    "  β_j is the weight (or coefficient) applied to the variable x\n"
   ]
  },
  {
   "cell_type": "code",
   "execution_count": 302,
   "id": "63d9d39d",
   "metadata": {},
   "outputs": [
    {
     "name": "stdout",
     "output_type": "stream",
     "text": [
      "Beta shape: (6,)\n",
      "Initialized beta vector: [ 0.00304717 -0.01039984  0.00750451  0.00940565 -0.01951035 -0.0130218 ]\n"
     ]
    }
   ],
   "source": [
    "# Weight initialization\n",
    "# Since the MSE loss function is convex (only one global minimum),\n",
    "# there is no risk of getting stuck in a local minimum.\n",
    "# Therefore, a simple initialization can be used.\n",
    "\n",
    "# Assume X_train is already defined\n",
    "n_features = X_train_norm.shape[1]   # number of columns (features + bias)\n",
    "\n",
    "# Random generator (seed for reproducibility)\n",
    "rng = np.random.default_rng(42)\n",
    "\n",
    "# Initialization: random values ~ N(0, 0.01) -> Normal law\n",
    "beta_init = rng.normal(loc=0.0, scale=0.01, size=n_features)\n",
    "\n",
    "print(\"Beta shape:\", beta_init.shape)\n",
    "print(\"Initialized beta vector:\", beta_init)"
   ]
  },
  {
   "cell_type": "markdown",
   "id": "c12bee86",
   "metadata": {},
   "source": [
    "#### 4.2 Sanity Check ####"
   ]
  },
  {
   "cell_type": "code",
   "execution_count": 303,
   "id": "56a31c49",
   "metadata": {},
   "outputs": [
    {
     "name": "stdout",
     "output_type": "stream",
     "text": [
      "✅ All shape checks passed. Dimensions are consistent.\n"
     ]
    }
   ],
   "source": [
    "assert X_train.shape[1] == X_test.shape[1], \"Train/Test do not have the same number of columns\"\n",
    "assert X_train.shape[0] == y_train.shape[0], \"X_train and y_train do not have the same number of samples\"\n",
    "assert X_test.shape[0]  == y_test.shape[0],  \"X_test and y_test do not have the same number of samples\"\n",
    "assert beta_init.shape[0] == X_train.shape[1], \"The weight vector and X_train do not have the same number of columns\"\n",
    "assert X.ndim == 2\n",
    "assert y.ndim == 1  # if (n,1) -> y = y.ravel()\n",
    "print(\"✅ All shape checks passed. Dimensions are consistent.\")\n",
    "\n",
    "# Ensure the data is in float type for linear algebra\n",
    "X_train = X_train.astype(float)\n",
    "X_test  = X_test.astype(float)\n",
    "y_train = y_train.astype(float)\n",
    "y_test  = y_test.astype(float)"
   ]
  },
  {
   "cell_type": "markdown",
   "id": "f2d95fe0",
   "metadata": {},
   "source": [
    "#### 4.3 Gradient Descent Algorithm ####"
   ]
  },
  {
   "cell_type": "markdown",
   "id": "909883ce",
   "metadata": {},
   "source": [
    "**Regularization L2 : λ**\n",
    "\n",
    "The goal of regularization is to reduce overfitting by penalizing large weights. It keeps the model simpler, more stable, and improves generalization to unseen data."
   ]
  },
  {
   "cell_type": "markdown",
   "id": "86c0f8e4",
   "metadata": {},
   "source": [
    "### Cost functions (MSE)\n",
    "\n",
    "- **MSE only (no Ridge):**  \n",
    "`J(β) = (1/n) · Σ (yᵢ - xᵢᵀβ)²`  \n",
    "\n",
    "- **MSE + Ridge (L2):**  \n",
    "`J(β) = (1/n) · Σ (yᵢ - xᵢᵀβ)²  +  λ · Σ βⱼ²`\n",
    "(with β₀, the intercept, excluded from regularization)\n",
    "\n",
    "\n",
    "### Gradients (partial derivative)\n",
    "\n",
    "- **MSE only (no Ridge):**  \n",
    "`grad = (2/n) · Xᵀ (Xβ - y)`\n",
    "\n",
    "- **MSE + Ridge (L2):**  \n",
    "`grad = (2/n) · Xᵀ (Xβ - y) + 2λβ`  \n",
    "(with β₀ excluded from regularization)"
   ]
  },
  {
   "cell_type": "markdown",
   "id": "2eb48f23",
   "metadata": {},
   "source": [
    "### Ridge intuition  \n",
    "\n",
    "With Ridge, the gradient of each weight **βⱼ** (except the intercept) is updated with an extra term:  \n",
    "\n",
    "`grad[j] += 2λβⱼ`  \n",
    "\n",
    "This pushes every weight back toward zero.  \n",
    "\n",
    "**Example for a single weight from the β vector (beta):**  \n",
    "\n",
    "`λ = 0.1, η = 0.05`\n",
    "Current weight: `β = 2`  \n",
    "Gradient from MSE part only: **grad = +0.6** => **reducing β decrease MSE** \n",
    "\n",
    "- Without Ridge: `β ← 2 − 0.05 · 0.6 = 1.97`  \n",
    "  \n",
    "- With Ridge (extra 2λβ = 0.4): \n",
    "    - β ← β - η · grad \n",
    "    - `β ← 2 − 0.05 · (0.6 + 0.4) = 1.95`  \n",
    "\n",
    "Ridge makes **β shrink faster toward 0**, even if the MSE gradient alone would have moved it less.\n"
   ]
  },
  {
   "cell_type": "code",
   "execution_count": 318,
   "id": "b34dbe49",
   "metadata": {},
   "outputs": [],
   "source": [
    "def gradient_descent(\n",
    "    X_train, y_train, X_test, y_test, beta_init,\n",
    "    lr=0.05, epochs=500, tol=1e-6,\n",
    "    l2=0.1, average_l2=True\n",
    "):\n",
    "    \"\"\"\n",
    "    Batch gradient descent for linear regression (MSE) with optional Ridge regularization.\n",
    "    Tracks both train and test MSE at each epoch.\n",
    "    \n",
    "    Parameters\n",
    "    ----------\n",
    "    X_train : array (n, p)  -- column 0 = 1 for the intercept\n",
    "    y_train : array (n,)\n",
    "    X_test : array (m, p)\n",
    "    y_test : array (m,)\n",
    "    beta_init : array (p,)\n",
    "    lr : float        -- learning rate\n",
    "    epochs : int\n",
    "    tol : float       -- early stopping if ΔMSE < tol (on train loss)\n",
    "    l2 : float        -- Ridge coefficient (β0 not penalized)\n",
    "    average_l2 : bool -- if True, penalty / n (consistent with averaged MSE)\n",
    "\n",
    "    Returns\n",
    "    -------\n",
    "    beta : (p,)\n",
    "    history_train : (t,) -- train MSE per iteration\n",
    "    history_test : (t,)  -- test MSE per iteration\n",
    "    stopped_at : int     -- number of updates performed (1..epochs)\n",
    "    last_loss : float    -- final train MSE\n",
    "    grad : (p,)          -- last gradient\n",
    "    \"\"\"\n",
    "    import numpy as np\n",
    "    \n",
    "    n, _ = X_train.shape\n",
    "    beta = np.asarray(beta_init, dtype=float).copy()\n",
    "\n",
    "    history_train = []\n",
    "    history_test = []\n",
    "    stopped_at = epochs\n",
    "\n",
    "    for t in range(epochs):\n",
    "        # 1) prediction (train)\n",
    "        y_pred_train = X_train @ beta\n",
    "\n",
    "        # 2) train MSE\n",
    "        loss_train = np.mean((y_train - y_pred_train) ** 2)\n",
    "        history_train.append(loss_train)\n",
    "\n",
    "        # 3) gradient (average)\n",
    "        grad = (2.0 / n) * (X_train.T @ (y_pred_train - y_train))\n",
    "\n",
    "        # 4) Ridge regularization (β0 not penalized)\n",
    "        if l2 > 0.0:\n",
    "            reg = beta.copy()\n",
    "            reg[0] = 0.0\n",
    "            scale = (1.0 / n) if average_l2 else 1.0\n",
    "            grad += 2.0 * l2 * scale * reg\n",
    "\n",
    "        # 5) update\n",
    "        beta -= lr * grad\n",
    "\n",
    "        # 6) test MSE\n",
    "        y_pred_test = X_test @ beta\n",
    "        loss_test = np.mean((y_test - y_pred_test) ** 2)\n",
    "        history_test.append(loss_test)\n",
    "\n",
    "        # 7) early stopping (train loss)\n",
    "        if t > 0 and abs(history_train[-2] - history_train[-1]) < tol:\n",
    "            stopped_at = t + 1\n",
    "            break\n",
    "\n",
    "    return beta, np.array(history_train), np.array(history_test), stopped_at, history_train[-1], grad\n"
   ]
  },
  {
   "cell_type": "code",
   "execution_count": 319,
   "id": "58ecaddc",
   "metadata": {},
   "outputs": [
    {
     "name": "stdout",
     "output_type": "stream",
     "text": [
      "Epochs performed (updates): 2873\n",
      "\n",
      "\n",
      "Final MSE train: 8124.67020498302\n",
      "\n",
      "\n",
      "Loss history train (last 10 values): [4000956.29829558 2913020.36402547 2127611.74551522 1560250.40467731\n",
      " 1150102.55956548  853351.08927699  638426.91828557  482578.50479964\n",
      "  369403.5741409   287072.89482262]\n",
      "\n",
      "\n",
      "Loss history test (last 10 values): [4113532.23839485 3009112.48570886 2207030.72605473 1624569.03501336\n",
      " 1201666.86716164  894702.58266883  671985.46632409  510486.71020072\n",
      "  393468.08393901  308761.22108563]\n"
     ]
    }
   ],
   "source": [
    "beta_final, hist_train, hist_test, stopped_at, last_loss, grad = gradient_descent(\n",
    "    X_train_norm, y_train,\n",
    "    X_test_norm, y_test,\n",
    "    beta_init,\n",
    "    lr=0.05, epochs=3000, tol=1e-10,\n",
    "    l2=0.0, average_l2=True\n",
    ")\n",
    "\n",
    "print(\"Epochs performed (updates):\", stopped_at)\n",
    "print(\"\\n\")\n",
    "print(\"Final MSE train:\", last_loss)\n",
    "print(\"\\n\")\n",
    "print(\"Loss history train (last 10 values):\", hist_train[:10])\n",
    "print(\"\\n\")\n",
    "print(\"Loss history test (last 10 values):\", hist_test[:10])"
   ]
  },
  {
   "cell_type": "markdown",
   "id": "bcd6a998",
   "metadata": {},
   "source": [
    "We see that from epoch 2873 onward, the MSE no longer decreases beyond the minimum threshold of 1e-10 between epochs, so the algorithm stops to prevent overfitting. The mean squared error is 8124, which corresponds to about 90 euros error per prediction"
   ]
  },
  {
   "cell_type": "markdown",
   "id": "f350e5b4",
   "metadata": {},
   "source": [
    "### **5. Predicitons** ###"
   ]
  },
  {
   "cell_type": "markdown",
   "id": "741ad5fd",
   "metadata": {},
   "source": [
    "We compute the predictions by multiplying the weight vector learned during training (β) with the feature matrices X_train_norm and X_test_norm.\n",
    "\n",
    "- y_pred_train are the predictions on the training set, i.e. on data the model has already seen. They tell us how well the model fits the known data.\n",
    "\n",
    "- y_pred_test are the predictions on the test set, i.e. on unseen data. This shows the model’s ability to generalize to new inputs.\n",
    "\n",
    "=> That’s the main purpose of the train/test split: check not only if the model learns the training examples, but also if it can make reliable predictions on data it never had access to."
   ]
  },
  {
   "cell_type": "code",
   "execution_count": 320,
   "id": "d351e925",
   "metadata": {},
   "outputs": [
    {
     "data": {
      "text/plain": [
       "array([1829.32064952,  498.5647684 ,  202.32641613,  -45.33505958,\n",
       "        -68.88526249,   34.9115409 ])"
      ]
     },
     "execution_count": 320,
     "metadata": {},
     "output_type": "execute_result"
    }
   ],
   "source": [
    "beta_final"
   ]
  },
  {
   "cell_type": "code",
   "execution_count": 321,
   "id": "dbe6136f",
   "metadata": {},
   "outputs": [
    {
     "data": {
      "text/plain": [
       "array([ 1.        , -1.59813621,  0.        , -0.86146098,  1.        ,\n",
       "        0.        ])"
      ]
     },
     "execution_count": 321,
     "metadata": {},
     "output_type": "execute_result"
    }
   ],
   "source": [
    "X_train_norm[0]"
   ]
  },
  {
   "cell_type": "markdown",
   "id": "cc2e343f",
   "metadata": {},
   "source": [
    "**Prediction calculation for the first row**\n",
    "\n",
    "Products detail :\n",
    "\n",
    "| Feature (X)   | Coefficient (β)   | Product (X·β)  |\n",
    "|---------------|-------------------|----------------|\n",
    "| 1             | 1829.32064952     | 1829.32        |\n",
    "| -1.5981       | 498.5647684       | ≈ -796.3       |\n",
    "| 0             | 202.32641613      | 0              |\n",
    "| -0.8615       | -45.33505958      | ≈ +39.0        |\n",
    "| 1             | -68.88526249      | -68.89         |\n",
    "| 0             | 34.9115409        | 0              |\n",
    "\n",
    "Sum :\n",
    "\n",
    "1829.32 − 796.3 + 0 + 39.0 − 68.9 + 0 ≈ **1003.1**\n",
    "\n",
    "Final prediction for the first row: **ŷ₀ ≈ 1003.1** (corresponding to first value of y_pred_train vector)\n"
   ]
  },
  {
   "cell_type": "code",
   "execution_count": 322,
   "id": "8878198e",
   "metadata": {},
   "outputs": [
    {
     "name": "stdout",
     "output_type": "stream",
     "text": [
      "[1002.71536513 1777.64813886 1985.31229371 2093.69760409 1253.40159873\n",
      " 2492.2092652  1828.11917859 2329.62030261 1345.69266821 2972.28714766\n",
      " 1178.43327384 1883.06815447 2465.60075778 2111.73438765 1375.93377733\n",
      " 2300.10460918 1593.12110064 2960.78141376 1536.09218721 1854.11101915\n",
      " 2474.88652059 1043.47074076 2627.87038993 1504.08783233]\n",
      "\n",
      "\n",
      "[2143.12207568 2102.21121919 2767.74076044 1418.33918923 2060.89728545\n",
      " 3148.21563799]\n"
     ]
    }
   ],
   "source": [
    "# Train predictions\n",
    "y_pred_train = X_train_norm @ beta_final\n",
    "print(f\"{y_pred_train}\")\n",
    "\n",
    "print(\"\\n\")\n",
    "# Test Predictions\n",
    "y_pred_test = X_test_norm @ beta_final\n",
    "\n",
    "print(f\"{y_pred_test}\")"
   ]
  },
  {
   "cell_type": "code",
   "execution_count": 323,
   "id": "53d0dfc1",
   "metadata": {},
   "outputs": [
    {
     "name": "stdout",
     "output_type": "stream",
     "text": [
      "[2050. 1900. 2850. 1520. 2000. 3400.]\n",
      "\n",
      "\n",
      "[2143.12207568 2102.21121919 2767.74076044 1418.33918923 2060.89728545\n",
      " 3148.21563799]\n"
     ]
    }
   ],
   "source": [
    "print(y_test)\n",
    "print(\"\\n\")\n",
    "print(y_pred_test)"
   ]
  },
  {
   "cell_type": "markdown",
   "id": "1555897d",
   "metadata": {},
   "source": [
    "### **6. Metrics** ###"
   ]
  },
  {
   "cell_type": "markdown",
   "id": "3a84cd69",
   "metadata": {},
   "source": [
    "#### 6.1 MSE (Mean square error) ####"
   ]
  },
  {
   "cell_type": "markdown",
   "id": "75c0e379",
   "metadata": {},
   "source": [
    "As seen earlier, the MSE is the mean of the squared differences between y and the predictions. We compute it both on the training and the test set. It represents the average error per prediction. The error is squared to remove the sign (+/−) and measure only the magnitude."
   ]
  },
  {
   "cell_type": "code",
   "execution_count": 324,
   "id": "f5ad8197",
   "metadata": {},
   "outputs": [],
   "source": [
    "# MSE\n",
    "mse_train = np.mean((y_train - y_pred_train)**2)\n",
    "mse_test  = np.mean((y_test  - y_pred_test)**2)"
   ]
  },
  {
   "cell_type": "markdown",
   "id": "3604ae08",
   "metadata": {},
   "source": [
    "#### 6.2 R²-score ####"
   ]
  },
  {
   "cell_type": "markdown",
   "id": "491d08bb",
   "metadata": {},
   "source": [
    "We can think of the R² score as a contest between our model and the mean: it shows how much better the model predicts compared to always using the average. The closer R² is to 1, the more accurate the model is. On the other hand, a value around or below 0.5 means the model is not doing better than the mean, or even worse."
   ]
  },
  {
   "cell_type": "markdown",
   "id": "f31d9c4c",
   "metadata": {},
   "source": [
    "`R² = 1 − (Σ(yᵢ − ŷᵢ)²) / (Σ(yᵢ − ȳ)²)`\n"
   ]
  },
  {
   "cell_type": "markdown",
   "id": "88c00715",
   "metadata": {},
   "source": [
    "**Intuition :**\n",
    "\n",
    "- The smaller the numerator (predictions close to y), the smaller the ratio, and the closer R² gets to 1.\n",
    "\n",
    "- If the numerator is about the same as the denominator → R² ≈ 0 (the model is no better than just predicting the mean).\n",
    "\n",
    "- If the numerator is larger than the denominator → R² < 0 (the model is worse than the mean)."
   ]
  },
  {
   "cell_type": "code",
   "execution_count": 325,
   "id": "9a46a3ed",
   "metadata": {},
   "outputs": [
    {
     "name": "stdout",
     "output_type": "stream",
     "text": [
      "Scores :\n",
      "Train -> MSE=8124.670205 | R²=0.975299\n",
      "Test  -> MSE=22294.407569  | R²=0.945005\n"
     ]
    }
   ],
   "source": [
    "def r2(y, y_pred):\n",
    "    ss_res = np.sum((y - y_pred)**2)\n",
    "    ss_tot = np.sum((y - y.mean())**2)\n",
    "    return 1.0 if ss_tot == 0 else 1 - ss_res/ss_tot\n",
    "\n",
    "r2_train = r2(y_train, y_pred_train)\n",
    "r2_test  = r2(y_test,  y_pred_test)\n",
    "\n",
    "print(\"Scores :\")\n",
    "print(f\"Train -> MSE={mse_train:.6f} | R²={r2_train:.6f}\")\n",
    "print(f\"Test  -> MSE={mse_test:.6f}  | R²={r2_test:.6f}\")"
   ]
  },
  {
   "cell_type": "markdown",
   "id": "91058697",
   "metadata": {},
   "source": [
    "It’s crucial that the training and test scores are roughly similar. If the gap between them is too large, it means the model has overfit the training data (the data it has already seen) and loses its ability to generalize to unseen data (the test set).\n",
    "\n",
    "Here the values are quite similar, so we can consider our model good at generalizin"
   ]
  },
  {
   "cell_type": "markdown",
   "id": "3d28312f",
   "metadata": {},
   "source": [
    "#### 6.3 PLOT ####"
   ]
  },
  {
   "cell_type": "code",
   "execution_count": 328,
   "id": "cff58d6c",
   "metadata": {},
   "outputs": [
    {
     "data": {
      "image/png": "[encoded data removed]",
      "text/plain": [
       "<Figure size 640x480 with 1 Axes>"
      ]
     },
     "metadata": {},
     "output_type": "display_data"
    }
   ],
   "source": [
    "import matplotlib.pyplot as plt\n",
    "\n",
    "plt.plot(hist_train[:100], label=\"Train loss (MSE)\")\n",
    "plt.plot(hist_test[:100], label=\"Test loss (MSE)\", linestyle=\"--\")\n",
    "plt.xlabel(\"Epochs\")\n",
    "plt.ylabel(\"MSE\")\n",
    "plt.title(\"Train vs Test Loss\")\n",
    "plt.legend()\n",
    "plt.show()"
   ]
  },
  {
   "cell_type": "markdown",
   "id": "b425b8fe",
   "metadata": {},
   "source": [
    "Here we only plotted the first 100 epochs so that the convergence of the model is easier to see on the graph. As the epochs increase, both the train and test losses decrease and almost overlap, which shows that the model is well fitted without clear signs of overfitting"
   ]
  },
  {
   "cell_type": "markdown",
   "id": "84e0ce5a",
   "metadata": {},
   "source": [
    "## **7. Using the model on new data** ##"
   ]
  },
  {
   "cell_type": "markdown",
   "id": "799e366b",
   "metadata": {},
   "source": [
    "**New data :**\n",
    "\n",
    "- surface = 30 m²\n",
    "\n",
    "- furnished = 1\n",
    "\n",
    "- distance_km = 0.3\n",
    "\n",
    "- quartier = center"
   ]
  },
  {
   "cell_type": "code",
   "execution_count": 313,
   "id": "60602220",
   "metadata": {},
   "outputs": [],
   "source": [
    "cols_to_scale = [1, 3]"
   ]
  },
  {
   "cell_type": "code",
   "execution_count": null,
   "id": "87d92055",
   "metadata": {},
   "outputs": [
    {
     "name": "stdout",
     "output_type": "stream",
     "text": [
      "[44.29166667  0.53333333]\n",
      "[15.19999772  0.38693956]\n"
     ]
    }
   ],
   "source": [
    "# scale\n",
    "X_train_std, X_test_std, (means, stds) = standardize_train_test(X_train, X_test, cols_to_scale)\n",
    "\n",
    "print(means)\n",
    "print(stds)"
   ]
  },
  {
   "cell_type": "code",
   "execution_count": 317,
   "id": "fd1c4f1e",
   "metadata": {},
   "outputs": [
    {
     "name": "stdout",
     "output_type": "stream",
     "text": [
      "[ 1.         -0.94024137  1.         -0.60302269  1.          0.        ]\n",
      "\n",
      "\n",
      "1521.3286521328566\n"
     ]
    }
   ],
   "source": [
    "# 1. Normalize continuous columns in the raw input\n",
    "x_new_raw = np.array([30.0, 1.0, 0.3, 1.0, 0.0])   # [area, furnished, distance, center, suburb]\n",
    "x_new_scaled = x_new_raw.copy().astype(float)\n",
    "x_new_scaled[[0, 2]] = (x_new_scaled[[0, 2]] - means) / stds   # normalize area and distance\n",
    "\n",
    "# 2. Add the bias term in column 0\n",
    "x_new = np.hstack([1.0, x_new_scaled])\n",
    "\n",
    "# 3. Prediction\n",
    "y_pred = x_new @ beta_final\n",
    "\n",
    "print(x_new)\n",
    "print(\"\\n\")\n",
    "print(y_pred)"
   ]
  },
  {
   "cell_type": "markdown",
   "id": "b76d493b",
   "metadata": {},
   "source": [
    "For a 30 m² furnished apartment located in the city center, 0.3 km from the reference point, the predicted rent is about 1521 €."
   ]
  },
  {
   "cell_type": "markdown",
   "id": "913d1eb6",
   "metadata": {},
   "source": [
    "### Thank you for reading !!!\n",
    "\n",
    "Thanks for going through this notebook!  \n",
    "I hope it helped you understand how gradient descent and regularization work when building a machine learning model from scratch with NumPy.  \n",
    "\n",
    "There are of course many other aspects to explore. For example:  \n",
    "- **L1 regularization (Lasso)** can shrink some coefficients exactly to zero, which is useful for feature selection.  \n",
    "- **Grid Search** is a systematic way to test multiple hyperparameter values (learning rate, λ, etc.) and find the best configuration.  \n",
    "- **k-fold cross validation** splits the data into *k* parts, trains *k* models on different folds, and averages the results. This reduces the risk of depending too much on a single train/test split and gives a more reliable estimate of model performance.  \n",
    "\n",
    "Happy coding and keep exploring ML ! :)"
   ]
  }
 ],
 "metadata": {
  "kernelspec": {
   "display_name": "Python 3",
   "language": "python",
   "name": "python3"
  },
  "language_info": {
   "codemirror_mode": {
    "name": "ipython",
    "version": 3
   },
   "file_extension": ".py",
   "mimetype": "text/x-python",
   "name": "python",
   "nbconvert_exporter": "python",
   "pygments_lexer": "ipython3",
   "version": "3.10.11"
  }
 },
 "nbformat": 4,
 "nbformat_minor": 5
}
